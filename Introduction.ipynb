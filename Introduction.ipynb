{
 "cells": [
  {
   "cell_type": "markdown",
   "metadata": {},
   "source": [
    "# Restaurant Suggestion in New Delhi"
   ]
  },
  {
   "cell_type": "markdown",
   "metadata": {},
   "source": [
    "## Table of Contents\n",
    "<div class=\"alert alert-block alert-info\" style=\"margin-top: 20px\">\n",
    "\n",
    "<font size = 3>\n",
    "\n",
    "1. <a href=\"#item1\">Introduction/Business Problem</a>\n",
    "\n",
    "2. <a href=\"#item2\">Data</a>\n",
    "   \n",
    "</font>\n",
    "</div>"
   ]
  },
  {
   "cell_type": "markdown",
   "metadata": {},
   "source": [
    "##  <a id=\"item1\"></a>Introduction/Business Problem"
   ]
  },
  {
   "cell_type": "markdown",
   "metadata": {},
   "source": [
    "The aim of this project is to identify best restaurants in <b>New Delhi,India</b> based on their average prices and ratings.We will use <b>FourSquare API</b> and <b>Zomato data </b> of various restaurants present in Delhi, for the analysis.\n",
    "This project will help various visitors to look up for best restaurant in their neighborhood (in Delhi), based on users average rating.<br>\n",
    "The idea behind this project is that whenever a tourist enters a new city or area he/she starts looking for best tourist places and secondly famous restaurants or cafe's to enjoy a good meal.<br>\n",
    "Here I am using <b>Foursquare location data</b> to look up for famous venues in Delhi and <b> Zomato data</b> to look up for the average ratings and average price of an restaurant."
   ]
  },
  {
   "cell_type": "markdown",
   "metadata": {},
   "source": [
    "## <a id=\"item2\"></a> Data"
   ]
  },
  {
   "cell_type": "markdown",
   "metadata": {},
   "source": [
    "For this project apart from location data we also need average ratings and average prices of restaurants present in New Delhi.\n",
    "Thus for the location data we will be dealing with <b>Foursquare API</b> and for the restaurants data, I just simply searched it on Kaggel and found <b>Zomato data</b> consisting of various restaurants not just from Delhi but all over the world, further we will filter it to extract the required data.<br>\n",
    "<b>Foursquare API:</b> We will collect the information of various venues in New Delhi within a radius of <b>25 km</b> and futher we wiil filter it to keep only restaurants inforamtion.<br>\n",
    "<b>Zomato data:</b> This data downloaded from Kaggle will help to get the average ratings and prices for each restaurant present in city, which is also in common with restaurants got from Foursquare API."
   ]
  },
  {
   "cell_type": "code",
   "execution_count": null,
   "metadata": {},
   "outputs": [],
   "source": []
  }
 ],
 "metadata": {
  "kernelspec": {
   "display_name": "Python 3",
   "language": "python",
   "name": "python3"
  },
  "language_info": {
   "codemirror_mode": {
    "name": "ipython",
    "version": 3
   },
   "file_extension": ".py",
   "mimetype": "text/x-python",
   "name": "python",
   "nbconvert_exporter": "python",
   "pygments_lexer": "ipython3",
   "version": "3.7.3"
  }
 },
 "nbformat": 4,
 "nbformat_minor": 2
}
